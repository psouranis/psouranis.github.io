{
 "cells": [
  {
   "cell_type": "code",
   "execution_count": 15,
   "id": "ca750c1d-300f-41f7-8e06-72f5ae8cd94f",
   "metadata": {},
   "outputs": [],
   "source": [
    "import torch.nn as nn\n",
    "from torch.nn.utils.prune import ln_structured, remove"
   ]
  },
  {
   "cell_type": "code",
   "execution_count": 16,
   "id": "5902be9c-8149-4a7f-8f30-38905823a2d4",
   "metadata": {},
   "outputs": [
    {
     "name": "stdout",
     "output_type": "stream",
     "text": [
      "Parameter containing:\n",
      "tensor([[-0.0486, -0.1201,  0.0273, -0.1782, -0.1393],\n",
      "        [ 0.0953, -0.3380,  0.2148,  0.3094,  0.2733],\n",
      "        [-0.2807, -0.0528, -0.4395, -0.2322, -0.0526]], requires_grad=True)\n"
     ]
    }
   ],
   "source": [
    "module = nn.Linear(5,3)\n",
    "print(module.weight)"
   ]
  },
  {
   "cell_type": "code",
   "execution_count": 17,
   "id": "8677d32d-32da-42f1-8220-03b02fafdc04",
   "metadata": {},
   "outputs": [
    {
     "name": "stdout",
     "output_type": "stream",
     "text": [
      "Parameter containing:\n",
      "tensor([[-0.0000, -0.1201,  0.0273, -0.1782, -0.0000],\n",
      "        [ 0.0000, -0.3380,  0.2148,  0.3094,  0.0000],\n",
      "        [-0.0000, -0.0528, -0.4395, -0.2322, -0.0000]], requires_grad=True)\n"
     ]
    }
   ],
   "source": [
    "ln_structured(module, amount=0.4, name=\"weight\", n=1, dim=1)\n",
    "remove(module, name=\"weight\")\n",
    "print(module.weight)"
   ]
  },
  {
   "cell_type": "code",
   "execution_count": null,
   "id": "07fce001-784b-4570-bf9d-97721cf1f0fd",
   "metadata": {},
   "outputs": [],
   "source": []
  }
 ],
 "metadata": {
  "kernelspec": {
   "display_name": "Python 3 (ipykernel)",
   "language": "python",
   "name": "python3"
  },
  "language_info": {
   "codemirror_mode": {
    "name": "ipython",
    "version": 3
   },
   "file_extension": ".py",
   "mimetype": "text/x-python",
   "name": "python",
   "nbconvert_exporter": "python",
   "pygments_lexer": "ipython3",
   "version": "3.12.0"
  }
 },
 "nbformat": 4,
 "nbformat_minor": 5
}
