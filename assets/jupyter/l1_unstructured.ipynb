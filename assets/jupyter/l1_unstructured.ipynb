{
 "cells": [
  {
   "cell_type": "code",
   "execution_count": 1,
   "id": "ca750c1d-300f-41f7-8e06-72f5ae8cd94f",
   "metadata": {},
   "outputs": [],
   "source": [
    "import torch.nn as nn\n",
    "from torch.nn.utils.prune import l1_unstructured, remove"
   ]
  },
  {
   "cell_type": "code",
   "execution_count": 2,
   "id": "5902be9c-8149-4a7f-8f30-38905823a2d4",
   "metadata": {},
   "outputs": [
    {
     "name": "stdout",
     "output_type": "stream",
     "text": [
      "Parameter containing:\n",
      "tensor([[ 0.0589, -0.4247, -0.1256, -0.4223,  0.3554],\n",
      "        [ 0.1715,  0.0887,  0.3597,  0.4345,  0.1108],\n",
      "        [-0.0734, -0.3319, -0.2801,  0.0021, -0.1699]], requires_grad=True)\n"
     ]
    }
   ],
   "source": [
    "module = nn.Linear(5,3)\n",
    "print(module.weight)"
   ]
  },
  {
   "cell_type": "code",
   "execution_count": 3,
   "id": "8677d32d-32da-42f1-8220-03b02fafdc04",
   "metadata": {},
   "outputs": [
    {
     "name": "stdout",
     "output_type": "stream",
     "text": [
      "Parameter containing:\n",
      "tensor([[ 0.0000, -0.4247, -0.0000, -0.4223,  0.3554],\n",
      "        [ 0.1715,  0.0000,  0.3597,  0.4345,  0.0000],\n",
      "        [-0.0000, -0.3319, -0.2801,  0.0000, -0.1699]], requires_grad=True)\n"
     ]
    }
   ],
   "source": [
    "l1_unstructured(module,amount=0.4, name=\"weight\")\n",
    "remove(module, name=\"weight\")\n",
    "print(module.weight)"
   ]
  }
 ],
 "metadata": {
  "kernelspec": {
   "display_name": "Python 3 (ipykernel)",
   "language": "python",
   "name": "python3"
  },
  "language_info": {
   "codemirror_mode": {
    "name": "ipython",
    "version": 3
   },
   "file_extension": ".py",
   "mimetype": "text/x-python",
   "name": "python",
   "nbconvert_exporter": "python",
   "pygments_lexer": "ipython3",
   "version": "3.12.0"
  }
 },
 "nbformat": 4,
 "nbformat_minor": 5
}
